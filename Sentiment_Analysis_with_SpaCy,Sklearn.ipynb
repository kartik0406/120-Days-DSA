{
  "nbformat": 4,
  "nbformat_minor": 0,
  "metadata": {
    "kernelspec": {
      "display_name": "Python 3",
      "language": "python",
      "name": "python3"
    },
    "language_info": {
      "codemirror_mode": {
        "name": "ipython",
        "version": 3
      },
      "file_extension": ".py",
      "mimetype": "text/x-python",
      "name": "python",
      "nbconvert_exporter": "python",
      "pygments_lexer": "ipython3",
      "version": "3.5.2"
    },
    "colab": {
      "provenance": []
    }
  },
  "cells": [
    {
      "cell_type": "markdown",
      "metadata": {
        "id": "fHAEC-rX5XaK"
      },
      "source": [
        "### Sentiment_Analysis_with_SpaCy,Sklearn\n",
        "+ Sentiment Analysis\n",
        "+ + DataSet source http://archive.ics.uci.edu/ml/datasets/Sentiment+Labelled+Sentences\n",
        "\n",
        "##### Aim is to classify reviews into positive or negative review\n"
      ]
    },
    {
      "cell_type": "code",
      "metadata": {
        "id": "KBd4481M5XaN"
      },
      "source": [
        "# Load EDA packages\n",
        "import pandas as pd"
      ],
      "execution_count": null,
      "outputs": []
    },
    {
      "cell_type": "code",
      "metadata": {
        "id": "s_Fjfmgc5XaO"
      },
      "source": [
        "# Load our dataset\n",
        "df_yelp = pd.read_table('yelp_labelled.txt')\n",
        "df_imdb = pd.read_table('imdb_labelled.txt')\n",
        "df_amz = pd.read_table('amazon_cells_labelled.txt')\n"
      ],
      "execution_count": null,
      "outputs": []
    },
    {
      "cell_type": "code",
      "metadata": {
        "id": "rwhSomE75XaP"
      },
      "source": [
        "# Concatenate our Datasets\n",
        "frames = [df_yelp,df_imdb,df_amz]"
      ],
      "execution_count": null,
      "outputs": []
    },
    {
      "cell_type": "code",
      "metadata": {
        "id": "1rnqtvOc5XaP"
      },
      "source": [
        "# Renaming Column Headers\n",
        "for colname in frames:\n",
        "    colname.columns = [\"Message\",\"Target\"]"
      ],
      "execution_count": null,
      "outputs": []
    },
    {
      "cell_type": "code",
      "metadata": {
        "id": "2Y7SXPK65XaQ",
        "outputId": "5f4f552e-7828-40ab-95e5-e3840d5b7092"
      },
      "source": [
        "# Column names\n",
        "for colname in frames:\n",
        "    print(colname.columns)"
      ],
      "execution_count": null,
      "outputs": [
        {
          "name": "stdout",
          "output_type": "stream",
          "text": [
            "Index(['Message', 'Target'], dtype='object')\n",
            "Index(['Message', 'Target'], dtype='object')\n",
            "Index(['Message', 'Target'], dtype='object')\n"
          ]
        }
      ]
    },
    {
      "cell_type": "code",
      "metadata": {
        "id": "5NmPpLJu5XaR"
      },
      "source": [
        "# Assign a Key to Make it Easier\n",
        "keys = ['Yelp','IMDB','Amazon']"
      ],
      "execution_count": null,
      "outputs": []
    },
    {
      "cell_type": "code",
      "metadata": {
        "id": "L-Y8sHqK5XaR"
      },
      "source": [
        "# Merge or Concat our Datasets\n",
        "df = pd.concat(frames,keys=keys)"
      ],
      "execution_count": null,
      "outputs": []
    },
    {
      "cell_type": "code",
      "metadata": {
        "id": "3j1HnD1I5XaS",
        "outputId": "b2a0ac72-f100-4cbc-e210-b80faa259a3a"
      },
      "source": [
        "df.head()"
      ],
      "execution_count": null,
      "outputs": [
        {
          "data": {
            "text/html": [
              "<div>\n",
              "<style scoped>\n",
              "    .dataframe tbody tr th:only-of-type {\n",
              "        vertical-align: middle;\n",
              "    }\n",
              "\n",
              "    .dataframe tbody tr th {\n",
              "        vertical-align: top;\n",
              "    }\n",
              "\n",
              "    .dataframe thead th {\n",
              "        text-align: right;\n",
              "    }\n",
              "</style>\n",
              "<table border=\"1\" class=\"dataframe\">\n",
              "  <thead>\n",
              "    <tr style=\"text-align: right;\">\n",
              "      <th></th>\n",
              "      <th></th>\n",
              "      <th>Message</th>\n",
              "      <th>Target</th>\n",
              "    </tr>\n",
              "  </thead>\n",
              "  <tbody>\n",
              "    <tr>\n",
              "      <th rowspan=\"5\" valign=\"top\">Yelp</th>\n",
              "      <th>0</th>\n",
              "      <td>Crust is not good.</td>\n",
              "      <td>0</td>\n",
              "    </tr>\n",
              "    <tr>\n",
              "      <th>1</th>\n",
              "      <td>Not tasty and the texture was just nasty.</td>\n",
              "      <td>0</td>\n",
              "    </tr>\n",
              "    <tr>\n",
              "      <th>2</th>\n",
              "      <td>Stopped by during the late May bank holiday of...</td>\n",
              "      <td>1</td>\n",
              "    </tr>\n",
              "    <tr>\n",
              "      <th>3</th>\n",
              "      <td>The selection on the menu was great and so wer...</td>\n",
              "      <td>1</td>\n",
              "    </tr>\n",
              "    <tr>\n",
              "      <th>4</th>\n",
              "      <td>Now I am getting angry and I want my damn pho.</td>\n",
              "      <td>0</td>\n",
              "    </tr>\n",
              "  </tbody>\n",
              "</table>\n",
              "</div>"
            ],
            "text/plain": [
              "                                                  Message  Target\n",
              "Yelp 0                                 Crust is not good.       0\n",
              "     1          Not tasty and the texture was just nasty.       0\n",
              "     2  Stopped by during the late May bank holiday of...       1\n",
              "     3  The selection on the menu was great and so wer...       1\n",
              "     4     Now I am getting angry and I want my damn pho.       0"
            ]
          },
          "execution_count": 9,
          "metadata": {},
          "output_type": "execute_result"
        }
      ]
    },
    {
      "cell_type": "markdown",
      "metadata": {
        "id": "k-i-Vftk5XaT"
      },
      "source": [
        "###  Working with SpaCy\n",
        "+ Removing Stopwords"
      ]
    },
    {
      "cell_type": "code",
      "metadata": {
        "id": "xs6ZRYkQ5XaU"
      },
      "source": [
        "import spacy\n",
        "from spacy.lang.en.stop_words import STOP_WORDS\n",
        "nlp = spacy.load('en')"
      ],
      "execution_count": null,
      "outputs": []
    },
    {
      "cell_type": "code",
      "metadata": {
        "id": "T6wpmZNd5XaU"
      },
      "source": [
        "# Build a list of stopwords to use to filter\n",
        "stopwords = list(STOP_WORDS)"
      ],
      "execution_count": null,
      "outputs": []
    },
    {
      "cell_type": "code",
      "metadata": {
        "id": "oMJJNNLw5XaU",
        "outputId": "bb402c1b-60d1-4248-bfaf-6b4ca71ecf3e"
      },
      "source": [
        "stopwords"
      ],
      "execution_count": null,
      "outputs": [
        {
          "data": {
            "text/plain": [
              "['because',\n",
              " 'around',\n",
              " 'whither',\n",
              " 'before',\n",
              " 'along',\n",
              " 'must',\n",
              " 'fifteen',\n",
              " 'down',\n",
              " 'first',\n",
              " 'when',\n",
              " 'about',\n",
              " 'once',\n",
              " 'together',\n",
              " 'though',\n",
              " 'did',\n",
              " 'more',\n",
              " 'put',\n",
              " 'are',\n",
              " 'many',\n",
              " 'where',\n",
              " 'bottom',\n",
              " 'or',\n",
              " 'hereafter',\n",
              " 'its',\n",
              " 'that',\n",
              " 'does',\n",
              " 'give',\n",
              " 'empty',\n",
              " 'due',\n",
              " 'almost',\n",
              " 'behind',\n",
              " 'becomes',\n",
              " 'becoming',\n",
              " 'mostly',\n",
              " 'name',\n",
              " 'nothing',\n",
              " 'our',\n",
              " 'us',\n",
              " 'using',\n",
              " 'wherein',\n",
              " 'same',\n",
              " 'between',\n",
              " 'latterly',\n",
              " 'own',\n",
              " 'of',\n",
              " 'eleven',\n",
              " 'namely',\n",
              " 'sixty',\n",
              " 'four',\n",
              " 'thus',\n",
              " 'toward',\n",
              " 'seemed',\n",
              " 'up',\n",
              " 'former',\n",
              " 'so',\n",
              " 'which',\n",
              " 'everyone',\n",
              " 'off',\n",
              " 'everything',\n",
              " 'two',\n",
              " 'in',\n",
              " 'if',\n",
              " 'further',\n",
              " 'here',\n",
              " 'will',\n",
              " 'either',\n",
              " 'done',\n",
              " 'beforehand',\n",
              " 'somewhere',\n",
              " 're',\n",
              " 'it',\n",
              " 'much',\n",
              " 'at',\n",
              " 'neither',\n",
              " 'nobody',\n",
              " 'formerly',\n",
              " 'how',\n",
              " 'since',\n",
              " 'have',\n",
              " 'the',\n",
              " 'whom',\n",
              " 'elsewhere',\n",
              " 'mine',\n",
              " 'across',\n",
              " 'with',\n",
              " 'forty',\n",
              " 'he',\n",
              " 'nevertheless',\n",
              " 'this',\n",
              " 'is',\n",
              " 'throughout',\n",
              " 'can',\n",
              " 'on',\n",
              " 'moreover',\n",
              " 'amongst',\n",
              " 'per',\n",
              " 'any',\n",
              " 'twenty',\n",
              " 'alone',\n",
              " 'all',\n",
              " 'last',\n",
              " 'sometime',\n",
              " 'whenever',\n",
              " 'just',\n",
              " 'ours',\n",
              " 'seems',\n",
              " 'against',\n",
              " 'front',\n",
              " 'him',\n",
              " 'a',\n",
              " 'few',\n",
              " 'except',\n",
              " 'by',\n",
              " 'herein',\n",
              " 'quite',\n",
              " 'still',\n",
              " 'such',\n",
              " 'were',\n",
              " 'whatever',\n",
              " 'whereby',\n",
              " 'who',\n",
              " 'noone',\n",
              " 'without',\n",
              " 'below',\n",
              " 'from',\n",
              " 'hundred',\n",
              " 'she',\n",
              " 'they',\n",
              " 'used',\n",
              " 'wherever',\n",
              " 'keep',\n",
              " 'move',\n",
              " 'other',\n",
              " 'his',\n",
              " 'under',\n",
              " 'sometimes',\n",
              " 'her',\n",
              " 'hers',\n",
              " 'upon',\n",
              " 'even',\n",
              " 'none',\n",
              " 'we',\n",
              " 'yourselves',\n",
              " 'most',\n",
              " 'three',\n",
              " 'already',\n",
              " 'whole',\n",
              " 'some',\n",
              " 'serious',\n",
              " 'has',\n",
              " 'whoever',\n",
              " 'had',\n",
              " 'was',\n",
              " 'for',\n",
              " 'latter',\n",
              " 'meanwhile',\n",
              " 'nine',\n",
              " 'not',\n",
              " 'part',\n",
              " 'them',\n",
              " 'hereby',\n",
              " 'several',\n",
              " 'ten',\n",
              " 'whose',\n",
              " 'make',\n",
              " 'you',\n",
              " 'less',\n",
              " 'enough',\n",
              " 'nor',\n",
              " 'hereupon',\n",
              " 'these',\n",
              " 'else',\n",
              " 'besides',\n",
              " 'might',\n",
              " 'too',\n",
              " 'take',\n",
              " 'made',\n",
              " 'therefore',\n",
              " 'and',\n",
              " 'your',\n",
              " 'cannot',\n",
              " 'could',\n",
              " 'six',\n",
              " 'an',\n",
              " 'through',\n",
              " 'until',\n",
              " 'whereas',\n",
              " 'via',\n",
              " 'within',\n",
              " 'am',\n",
              " 'over',\n",
              " 'while',\n",
              " 'to',\n",
              " 'back',\n",
              " 'may',\n",
              " 'anything',\n",
              " 'eight',\n",
              " 'therein',\n",
              " 'been',\n",
              " 'those',\n",
              " 'thereupon',\n",
              " 'show',\n",
              " 'go',\n",
              " 'five',\n",
              " 'why',\n",
              " 'whereafter',\n",
              " 'than',\n",
              " 'get',\n",
              " 'never',\n",
              " 'become',\n",
              " 'became',\n",
              " 'third',\n",
              " 'yet',\n",
              " 'something',\n",
              " 'nowhere',\n",
              " 'always',\n",
              " 'as',\n",
              " 'what',\n",
              " 'each',\n",
              " 'whence',\n",
              " 'would',\n",
              " 'indeed',\n",
              " 'anyhow',\n",
              " 'call',\n",
              " 'do',\n",
              " 'rather',\n",
              " 'say',\n",
              " 'yours',\n",
              " 'see',\n",
              " 'towards',\n",
              " 'afterwards',\n",
              " 'seeming',\n",
              " 'next',\n",
              " 'after',\n",
              " 'often',\n",
              " 'otherwise',\n",
              " 'now',\n",
              " 'regarding',\n",
              " 'their',\n",
              " 'also',\n",
              " 'various',\n",
              " 'seem',\n",
              " 'there',\n",
              " 'well',\n",
              " 'my',\n",
              " 'onto',\n",
              " 'thereafter',\n",
              " 'be',\n",
              " 'but',\n",
              " 'again',\n",
              " 'beyond',\n",
              " 'both',\n",
              " 'however',\n",
              " 'another',\n",
              " 'himself',\n",
              " 'please',\n",
              " 'top',\n",
              " 'anywhere',\n",
              " 'beside',\n",
              " 'no',\n",
              " 'anyway',\n",
              " 'being',\n",
              " 'others',\n",
              " 'whereupon',\n",
              " 'i',\n",
              " 'amount',\n",
              " 'anyone',\n",
              " 'fifty',\n",
              " 'one',\n",
              " 'ourselves',\n",
              " 'thereby',\n",
              " 'twelve',\n",
              " 'unless',\n",
              " 'themselves',\n",
              " 'although',\n",
              " 'during',\n",
              " 'myself',\n",
              " 'really',\n",
              " 'should',\n",
              " 'thence',\n",
              " 'among',\n",
              " 'then',\n",
              " 'least',\n",
              " 'someone',\n",
              " 'ca',\n",
              " 'yourself',\n",
              " 'everywhere',\n",
              " 'ever',\n",
              " 'out',\n",
              " 'side',\n",
              " 'me',\n",
              " 'hence',\n",
              " 'every',\n",
              " 'herself',\n",
              " 'itself',\n",
              " 'only',\n",
              " 'full',\n",
              " 'thru',\n",
              " 'above',\n",
              " 'doing',\n",
              " 'very',\n",
              " 'perhaps',\n",
              " 'whether',\n",
              " 'into',\n",
              " 'somehow']"
            ]
          },
          "execution_count": 15,
          "metadata": {},
          "output_type": "execute_result"
        }
      ]
    },
    {
      "cell_type": "markdown",
      "metadata": {
        "id": "KnOSgiXd5XaV"
      },
      "source": [
        "##### Getting Lemma and Stop words"
      ]
    },
    {
      "cell_type": "code",
      "metadata": {
        "id": "QVwuZsjw5XaW"
      },
      "source": [
        "for word in stopwords:\n",
        "    if word.is_stop == False and not word.is_punct:\n"
      ],
      "execution_count": null,
      "outputs": []
    },
    {
      "cell_type": "markdown",
      "metadata": {
        "id": "Wbc9C7W05XaY"
      },
      "source": [
        "#### Machine Learning With SKlearn"
      ]
    },
    {
      "cell_type": "code",
      "metadata": {
        "id": "5CyooaN25XaY"
      },
      "source": [
        "# ML Packages\n",
        "import CountVectorizer,TfidfVectorizer from sklearn.feature_extraction.text\n",
        "import accuracy_score from sklearn.metrics\n",
        "import train_test_split from sklearn.model_selection\n",
        "import TransformerMixin from sklearn.base\n",
        "import LinearSVC from sklearn.svm\n",
        "import Pipeline from sklearn.pipeline"
      ],
      "execution_count": null,
      "outputs": []
    },
    {
      "cell_type": "code",
      "metadata": {
        "id": "4efHGTZH5XaY"
      },
      "source": [
        "#Custom transformer using spaCy \n",
        "class transformers(TransformerMixin):\n",
        "    def data_transform(X_train, Y_train):\n",
        "        return [clean_text(text) for text in X]\n",
        "    def model_fit(X=text, y=text_set,):\n",
        "        return text\n",
        "    def set_params(best_params, set=True):\n",
        "        return {}\n",
        "\n",
        "def text_cleaning(text):\n",
        "    return clean_text.label().lower_case()"
      ],
      "execution_count": null,
      "outputs": []
    },
    {
      "cell_type": "code",
      "metadata": {
        "id": "OgziVWQv5XaZ"
      },
      "source": [
        "# Vectorization\n",
        "vectorizer = CountVectorizer(tokenizer = spacy_tokenizer, ngram_range=(1,1)) \n",
        "classifier = LinearSVC()"
      ],
      "execution_count": null,
      "outputs": []
    },
    {
      "cell_type": "code",
      "metadata": {
        "id": "5n1AMGbn5Xad"
      },
      "source": [
        "# Using Tfidf\n",
        "tfvectorizer = TfidfVectorizer(tokenizer = spacy_tokenizer)"
      ],
      "execution_count": null,
      "outputs": []
    },
    {
      "cell_type": "code",
      "metadata": {
        "id": "HDsuyNDI5Xae"
      },
      "source": [
        "# Splitting Data Set\n",
        "from sklearn.model_selection import train_test_split"
      ],
      "execution_count": null,
      "outputs": []
    },
    {
      "cell_type": "code",
      "metadata": {
        "id": "QacOf-WO5Xaf"
      },
      "source": [
        "# Features and Labels\n",
        "X = df['Message']\n",
        "ylabels = df['Target']"
      ],
      "execution_count": null,
      "outputs": []
    },
    {
      "cell_type": "code",
      "metadata": {
        "id": "zs_tu9wx5Xag"
      },
      "source": [
        "X_train, X_test, y_train, y_test = train_test_split(X, ylabels, test_size=0.25, random_state=42)"
      ],
      "execution_count": null,
      "outputs": []
    },
    {
      "cell_type": "code",
      "metadata": {
        "id": "DpQTmNvy5Xag"
      },
      "source": [
        "# Create the  pipeline to clean, tokenize, vectorize, and classify \n",
        "pipe = Pipeline([(\"cleaner\", predictors()),\n",
        "                 ('vectorizer', vectorizer),\n",
        "                 ('classifier', classifier)])"
      ],
      "execution_count": null,
      "outputs": []
    },
    {
      "cell_type": "code",
      "metadata": {
        "id": "hTnkJjs15Xag",
        "outputId": "3c91d48b-d8f1-4b03-f4ad-88d7dfc924f7"
      },
      "source": [
        "# Fit our data\n",
        "pipe.fit(X_train,y_train)"
      ],
      "execution_count": null,
      "outputs": [
        {
          "data": {
            "text/plain": [
              "Pipeline(memory=None,\n",
              "     steps=[('cleaner', <__main__.predictors object at 0x7fee6cac3f98>), ('vectorizer', CountVectorizer(analyzer='word', binary=False, decode_error='strict',\n",
              "        dtype=<class 'numpy.int64'>, encoding='utf-8', input='content',\n",
              "        lowercase=True, max_df=1.0, max_features=None, min_df=1,\n",
              "        ng...ax_iter=1000,\n",
              "     multi_class='ovr', penalty='l2', random_state=None, tol=0.0001,\n",
              "     verbose=0))])"
            ]
          },
          "execution_count": 33,
          "metadata": {},
          "output_type": "execute_result"
        }
      ]
    },
    {
      "cell_type": "code",
      "metadata": {
        "id": "07r25C-F5Xai",
        "outputId": "0ee931e9-8acd-4caf-bc55-a716a12436ba"
      },
      "source": [
        "# Accuracy\n",
        "print(\"Accuracy: \",pipe.score(X_train,y_train))\n"
      ],
      "execution_count": null,
      "outputs": [
        {
          "name": "stdout",
          "output_type": "stream",
          "text": [
            "Accuracy:  0.9849726775956285\n"
          ]
        }
      ]
    },
    {
      "cell_type": "code",
      "metadata": {
        "id": "h3UWnC3H5Xai",
        "outputId": "3ac4d064-d201-4c86-a0e6-935644dfe191"
      },
      "source": [
        "# Another random review\n",
        "pipe.predict([\"I recommend this movie to watch, it's great\"])"
      ],
      "execution_count": null,
      "outputs": [
        {
          "data": {
            "text/plain": [
              "array([1])"
            ]
          },
          "execution_count": 39,
          "metadata": {},
          "output_type": "execute_result"
        }
      ]
    },
    {
      "cell_type": "code",
      "metadata": {
        "id": "XL9XRqQm5Xai"
      },
      "source": [
        "example = [\"I love this product so much\",\n",
        " \"What an inferior item! I will purchase a new one\",\n",
        " \"I feel happy when using your product!\"]\n",
        "       "
      ],
      "execution_count": null,
      "outputs": []
    },
    {
      "cell_type": "code",
      "metadata": {
        "id": "4aPcIgrD5Xaj",
        "outputId": "25cb6d4b-8d8c-420a-e510-1ffbbe1dce6a"
      },
      "source": [
        "pipe.predict(example)"
      ],
      "execution_count": null,
      "outputs": [
        {
          "data": {
            "text/plain": [
              "array([1, 0, 1])"
            ]
          },
          "execution_count": 41,
          "metadata": {},
          "output_type": "execute_result"
        }
      ]
    }
  ]
}